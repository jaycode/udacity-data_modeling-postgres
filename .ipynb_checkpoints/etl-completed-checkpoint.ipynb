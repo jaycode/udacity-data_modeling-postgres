{
 "cells": [
  {
   "cell_type": "markdown",
   "metadata": {},
   "source": [
    "# ETL Processes\n",
    "\n",
    "**Use this notebook to perform the full ETL (Extract, Transform, Load) process and populate your database with data from the provided datasets.**  \n",
    "The notebook is divided into two parts:\n",
    "\n",
    "### 1. Mock-up Process  \n",
    "In this section, you will explore the datasets and experiment with transforming the data. Your goal is to write `INSERT` queries that insert **a single sample record** into each relevant table. This helps you understand the structure and logic needed before scaling up to the full dataset.\n",
    "\n",
    "### 2. Completed Process  \n",
    "Once your `INSERT` queries work correctly for a single record, you'll clean up the database tables and reuse those queries to **load all the data** into your database.\n",
    "\n",
    "## Part 1. Mock-up Process"
   ]
  },
  {
   "cell_type": "code",
   "execution_count": 1,
   "metadata": {},
   "outputs": [],
   "source": [
    "import os\n",
    "import glob\n",
    "import psycopg2\n",
    "import pandas as pd"
   ]
  },
  {
   "cell_type": "code",
   "execution_count": 2,
   "metadata": {},
   "outputs": [],
   "source": [
    "conn = psycopg2.connect(\"host=127.0.0.1 dbname=sparkifydb user=student password=student\")\n",
    "cur = conn.cursor()"
   ]
  },
  {
   "cell_type": "code",
   "execution_count": 3,
   "metadata": {},
   "outputs": [],
   "source": [
    "def get_files(filepath):\n",
    "    all_files = []\n",
    "    for root, dirs, files in os.walk(filepath):\n",
    "        files = glob.glob(os.path.join(root,'*.json'))\n",
    "        for f in files :\n",
    "            all_files.append(os.path.abspath(f))\n",
    "    \n",
    "    return all_files"
   ]
  },
  {
   "cell_type": "markdown",
   "metadata": {},
   "source": [
    "# Process `song_data`\n",
    "In this first part, you'll perform ETL on the first dataset, `song_data`, to create the `songs` and `artists` dimensional tables.\n",
    "\n",
    "Let's perform ETL on a single song file and load a single record into each table to start.\n",
    "- Use the `get_files` function provided above to get a list of all song JSON files in `data/song_data`\n",
    "- Select the first song in this list\n",
    "- Read the song file and view the data"
   ]
  },
  {
   "cell_type": "code",
   "execution_count": 4,
   "metadata": {},
   "outputs": [
    {
     "data": {
      "text/html": [
       "<div>\n",
       "<style scoped>\n",
       "    .dataframe tbody tr th:only-of-type {\n",
       "        vertical-align: middle;\n",
       "    }\n",
       "\n",
       "    .dataframe tbody tr th {\n",
       "        vertical-align: top;\n",
       "    }\n",
       "\n",
       "    .dataframe thead th {\n",
       "        text-align: right;\n",
       "    }\n",
       "</style>\n",
       "<table border=\"1\" class=\"dataframe\">\n",
       "  <thead>\n",
       "    <tr style=\"text-align: right;\">\n",
       "      <th></th>\n",
       "      <th>artist_id</th>\n",
       "      <th>artist_latitude</th>\n",
       "      <th>artist_location</th>\n",
       "      <th>artist_longitude</th>\n",
       "      <th>artist_name</th>\n",
       "      <th>duration</th>\n",
       "      <th>num_songs</th>\n",
       "      <th>song_id</th>\n",
       "      <th>title</th>\n",
       "      <th>year</th>\n",
       "    </tr>\n",
       "  </thead>\n",
       "  <tbody>\n",
       "    <tr>\n",
       "      <th>0</th>\n",
       "      <td>ARNTLGG11E2835DDB9</td>\n",
       "      <td>NaN</td>\n",
       "      <td></td>\n",
       "      <td>NaN</td>\n",
       "      <td>Clp</td>\n",
       "      <td>266.39628</td>\n",
       "      <td>1</td>\n",
       "      <td>SOUDSGM12AC9618304</td>\n",
       "      <td>Insatiable (Instrumental Version)</td>\n",
       "      <td>0</td>\n",
       "    </tr>\n",
       "  </tbody>\n",
       "</table>\n",
       "</div>"
      ],
      "text/plain": [
       "            artist_id  artist_latitude artist_location  artist_longitude  \\\n",
       "0  ARNTLGG11E2835DDB9              NaN                               NaN   \n",
       "\n",
       "  artist_name   duration  num_songs             song_id  \\\n",
       "0         Clp  266.39628          1  SOUDSGM12AC9618304   \n",
       "\n",
       "                               title  year  \n",
       "0  Insatiable (Instrumental Version)     0  "
      ]
     },
     "execution_count": 4,
     "metadata": {},
     "output_type": "execute_result"
    }
   ],
   "source": [
    "# TODO: Get the first file from data/song_data directory and parse it into\n",
    "#       a df object.\n",
    "song_files = get_files('data/song_data')\n",
    "filepath = song_files[0]\n",
    "df = pd.read_json(filepath, lines=True)\n",
    "df.head()"
   ]
  },
  {
   "cell_type": "markdown",
   "metadata": {},
   "source": [
    "## #1: `songs` Table\n",
    "#### Extract Data for Songs Table\n",
    "- Select columns for song ID, title, artist ID, year, and duration\n",
    "- Use `df.values` to select just the values from the dataframe\n",
    "- Index to select the first (only) record in the dataframe\n",
    "- Convert the array to a list and set it to `song_data`"
   ]
  },
  {
   "cell_type": "code",
   "execution_count": 5,
   "metadata": {},
   "outputs": [
    {
     "data": {
      "text/plain": [
       "['SOUDSGM12AC9618304',\n",
       " 'Insatiable (Instrumental Version)',\n",
       " 'ARNTLGG11E2835DDB9',\n",
       " 0,\n",
       " 266.39628]"
      ]
     },
     "execution_count": 5,
     "metadata": {},
     "output_type": "execute_result"
    }
   ],
   "source": [
    "# TODO: Select the first record's values, convert them to a list.\n",
    "song_data = df[['song_id', 'title', 'artist_id', 'year', 'duration']].values[0].tolist()\n",
    "song_data"
   ]
  },
  {
   "cell_type": "markdown",
   "metadata": {},
   "source": [
    "#### Insert Record into Song Table\n",
    "\n",
    "Write the `song_table_insert` query and run the cell below to insert a new song record into the `songs` table.\n",
    "\n",
    "Make sure your query handles potential duplicate `song_id` values gracefully—if a duplicate is encountered, the query should **do nothing** instead of raising an error."
   ]
  },
  {
   "cell_type": "code",
   "execution_count": 6,
   "metadata": {},
   "outputs": [],
   "source": [
    "# TODO: Write an INSERT query for the songs table that accepts\n",
    "#       record values as its parameters.\n",
    "song_table_insert = (\"\"\"\n",
    "    INSERT INTO songs(song_id, title, artist_id, year, duration)\n",
    "    VALUES(%s, %s, %s, %s, %s)\n",
    "    ON CONFLICT (song_id) DO NOTHING;\n",
    "\"\"\")"
   ]
  },
  {
   "cell_type": "markdown",
   "metadata": {},
   "source": [
    "**Note:** If you get the following error when running the next code block:\n",
    "\n",
    "> InternalError: current transaction is aborted, commands ignored until end of transaction block\n",
    "\n",
    "This error happens because **a previous SQL command failed**, and the current transaction is now in an aborted state. In PostgreSQL, once a transaction fails, you must **roll it back** before executing any further commands.\n",
    "\n",
    "To fix this, create a new code block and run this code in it:\n",
    "\n",
    "```\n",
    "conn.rollback()\n",
    "```\n",
    "\n",
    "After rolling back, you may delete the code block and safely re-run your query.\n",
    "\n",
    "This applies to all other `cur.execute()` code in this notebook."
   ]
  },
  {
   "cell_type": "code",
   "execution_count": 7,
   "metadata": {},
   "outputs": [],
   "source": [
    "cur.execute(song_table_insert, song_data)\n",
    "conn.commit()"
   ]
  },
  {
   "cell_type": "markdown",
   "metadata": {},
   "source": [
    "### Test\n",
    "\n",
    "Run this test code block to verify that a record was successfully inserted into the table.\n",
    "If everything is working correctly, the output should display the same record you inserted in the previous step."
   ]
  },
  {
   "cell_type": "code",
   "execution_count": 8,
   "metadata": {},
   "outputs": [
    {
     "data": {
      "text/plain": [
       "[('SOUDSGM12AC9618304',\n",
       "  'Insatiable (Instrumental Version)',\n",
       "  'ARNTLGG11E2835DDB9',\n",
       "  0,\n",
       "  266.39628),\n",
       " ('SOMJBYD12A6D4F8557',\n",
       "  'Keepin It Real (Skit)',\n",
       "  'ARD0S291187B9B7BF5',\n",
       "  0,\n",
       "  114.78159),\n",
       " ('SOMZWCG12A8C13C480',\n",
       "  \"I Didn't Mean To\",\n",
       "  'ARD7TVE1187B99BFB1',\n",
       "  0,\n",
       "  218.93179),\n",
       " ('SOFSOCN12A8C143F5D',\n",
       "  'Face the Ashes',\n",
       "  'ARXR32B1187FB57099',\n",
       "  2007,\n",
       "  209.60608),\n",
       " ('SONHOTT12A8C13493C',\n",
       "  'Something Girls',\n",
       "  'AR7G5I41187FB4CE6C',\n",
       "  1982,\n",
       "  233.40363)]"
      ]
     },
     "execution_count": 8,
     "metadata": {},
     "output_type": "execute_result"
    }
   ],
   "source": [
    "cur.execute(\"SELECT * FROM songs LIMIT 5\")\n",
    "results = cur.fetchall()\n",
    "results"
   ]
  },
  {
   "cell_type": "markdown",
   "metadata": {},
   "source": [
    "## #2: `artists` Table\n",
    "#### Extract Data for Artists Table\n",
    "- Select columns for artist ID, name, location, latitude, and longitude\n",
    "- Use `df.values` to select just the values from the dataframe\n",
    "- Index to select the first (only) record in the dataframe\n",
    "- Convert the array to a list and set it to `artist_data`"
   ]
  },
  {
   "cell_type": "code",
   "execution_count": 9,
   "metadata": {},
   "outputs": [
    {
     "data": {
      "text/plain": [
       "['ARNTLGG11E2835DDB9', 'Clp', '', nan, nan]"
      ]
     },
     "execution_count": 9,
     "metadata": {},
     "output_type": "execute_result"
    }
   ],
   "source": [
    "# TODO: Select the first record's values, convert them to a list\n",
    "artist_data = df[['artist_id', 'artist_name', 'artist_location', 'artist_latitude', 'artist_longitude']].values[0].tolist()\n",
    "artist_data"
   ]
  },
  {
   "cell_type": "markdown",
   "metadata": {},
   "source": [
    "#### Insert Record into Artist Table\n",
    "\n",
    "Write the `artist_table_insert` query and run the cell below to insert a new artist record into the `artists` table.\n",
    "\n",
    "Make sure your query handles potential duplicate `artist_id` values gracefully—if a duplicate is encountered, the query should **do nothing** instead of raising an error."
   ]
  },
  {
   "cell_type": "code",
   "execution_count": 10,
   "metadata": {},
   "outputs": [],
   "source": [
    "# TODO: Write an INSERT query for the artists table that accepts\n",
    "#       record values as its parameters.\n",
    "artist_table_insert = (\"\"\"\n",
    "    INSERT INTO artists(artist_id, name, location, latitude, longitude)\n",
    "    VALUES(%s, %s, %s, %s, %s)\n",
    "    ON CONFLICT (artist_id) DO NOTHING;\n",
    "\"\"\")"
   ]
  },
  {
   "cell_type": "code",
   "execution_count": 11,
   "metadata": {},
   "outputs": [],
   "source": [
    "cur.execute(artist_table_insert, artist_data)\n",
    "conn.commit()"
   ]
  },
  {
   "cell_type": "markdown",
   "metadata": {},
   "source": [
    "### Test"
   ]
  },
  {
   "cell_type": "code",
   "execution_count": 12,
   "metadata": {},
   "outputs": [
    {
     "data": {
      "text/plain": [
       "[('ARNTLGG11E2835DDB9', 'Clp', '', nan, nan),\n",
       " ('ARD0S291187B9B7BF5', 'Rated R', 'Ohio', nan, nan),\n",
       " ('ARD7TVE1187B99BFB1', 'Casual', 'California - LA', nan, nan),\n",
       " ('ARXR32B1187FB57099', 'Gob', '', nan, nan),\n",
       " ('AR7G5I41187FB4CE6C', 'Adam Ant', 'London, England', nan, nan)]"
      ]
     },
     "execution_count": 12,
     "metadata": {},
     "output_type": "execute_result"
    }
   ],
   "source": [
    "cur.execute(\"SELECT * FROM artists LIMIT 5\")\n",
    "results = cur.fetchall()\n",
    "results"
   ]
  },
  {
   "cell_type": "markdown",
   "metadata": {},
   "source": [
    "# Process `log_data`\n",
    "In this part, you'll perform ETL on the second dataset, `log_data`, to create the `time` and `users` dimensional tables, as well as the `songplays` fact table.\n",
    "\n",
    "Let's perform ETL on a single log file and load records into each table.\n",
    "- Use the `get_files` function provided above to get a list of all log JSON files in `data/log_data`\n",
    "- Select the first log file in this list\n",
    "- Read the log file and view the data"
   ]
  },
  {
   "cell_type": "code",
   "execution_count": 13,
   "metadata": {},
   "outputs": [
    {
     "data": {
      "text/html": [
       "<div>\n",
       "<style scoped>\n",
       "    .dataframe tbody tr th:only-of-type {\n",
       "        vertical-align: middle;\n",
       "    }\n",
       "\n",
       "    .dataframe tbody tr th {\n",
       "        vertical-align: top;\n",
       "    }\n",
       "\n",
       "    .dataframe thead th {\n",
       "        text-align: right;\n",
       "    }\n",
       "</style>\n",
       "<table border=\"1\" class=\"dataframe\">\n",
       "  <thead>\n",
       "    <tr style=\"text-align: right;\">\n",
       "      <th></th>\n",
       "      <th>artist</th>\n",
       "      <th>auth</th>\n",
       "      <th>firstName</th>\n",
       "      <th>gender</th>\n",
       "      <th>itemInSession</th>\n",
       "      <th>lastName</th>\n",
       "      <th>length</th>\n",
       "      <th>level</th>\n",
       "      <th>location</th>\n",
       "      <th>method</th>\n",
       "      <th>page</th>\n",
       "      <th>registration</th>\n",
       "      <th>sessionId</th>\n",
       "      <th>song</th>\n",
       "      <th>status</th>\n",
       "      <th>ts</th>\n",
       "      <th>userAgent</th>\n",
       "      <th>userId</th>\n",
       "    </tr>\n",
       "  </thead>\n",
       "  <tbody>\n",
       "    <tr>\n",
       "      <th>0</th>\n",
       "      <td>Mitch Ryder &amp; The Detroit Wheels</td>\n",
       "      <td>Logged In</td>\n",
       "      <td>Tegan</td>\n",
       "      <td>F</td>\n",
       "      <td>65</td>\n",
       "      <td>Levine</td>\n",
       "      <td>205.03465</td>\n",
       "      <td>paid</td>\n",
       "      <td>Portland-South Portland, ME</td>\n",
       "      <td>PUT</td>\n",
       "      <td>NextSong</td>\n",
       "      <td>1.540794e+12</td>\n",
       "      <td>992</td>\n",
       "      <td>Jenny Take A Ride (LP Version)</td>\n",
       "      <td>200</td>\n",
       "      <td>1543363215796</td>\n",
       "      <td>\"Mozilla/5.0 (Macintosh; Intel Mac OS X 10_9_4...</td>\n",
       "      <td>80</td>\n",
       "    </tr>\n",
       "    <tr>\n",
       "      <th>1</th>\n",
       "      <td>The Spill Canvas</td>\n",
       "      <td>Logged In</td>\n",
       "      <td>Tegan</td>\n",
       "      <td>F</td>\n",
       "      <td>66</td>\n",
       "      <td>Levine</td>\n",
       "      <td>358.03383</td>\n",
       "      <td>paid</td>\n",
       "      <td>Portland-South Portland, ME</td>\n",
       "      <td>PUT</td>\n",
       "      <td>NextSong</td>\n",
       "      <td>1.540794e+12</td>\n",
       "      <td>992</td>\n",
       "      <td>The TIde (LP Version)</td>\n",
       "      <td>200</td>\n",
       "      <td>1543363420796</td>\n",
       "      <td>\"Mozilla/5.0 (Macintosh; Intel Mac OS X 10_9_4...</td>\n",
       "      <td>80</td>\n",
       "    </tr>\n",
       "    <tr>\n",
       "      <th>2</th>\n",
       "      <td>Mogwai</td>\n",
       "      <td>Logged In</td>\n",
       "      <td>Tegan</td>\n",
       "      <td>F</td>\n",
       "      <td>67</td>\n",
       "      <td>Levine</td>\n",
       "      <td>571.19302</td>\n",
       "      <td>paid</td>\n",
       "      <td>Portland-South Portland, ME</td>\n",
       "      <td>PUT</td>\n",
       "      <td>NextSong</td>\n",
       "      <td>1.540794e+12</td>\n",
       "      <td>992</td>\n",
       "      <td>Two Rights Make One Wrong</td>\n",
       "      <td>200</td>\n",
       "      <td>1543363778796</td>\n",
       "      <td>\"Mozilla/5.0 (Macintosh; Intel Mac OS X 10_9_4...</td>\n",
       "      <td>80</td>\n",
       "    </tr>\n",
       "    <tr>\n",
       "      <th>3</th>\n",
       "      <td>Spor</td>\n",
       "      <td>Logged In</td>\n",
       "      <td>Tegan</td>\n",
       "      <td>F</td>\n",
       "      <td>68</td>\n",
       "      <td>Levine</td>\n",
       "      <td>380.34240</td>\n",
       "      <td>paid</td>\n",
       "      <td>Portland-South Portland, ME</td>\n",
       "      <td>PUT</td>\n",
       "      <td>NextSong</td>\n",
       "      <td>1.540794e+12</td>\n",
       "      <td>992</td>\n",
       "      <td>Way Of The Samurai</td>\n",
       "      <td>200</td>\n",
       "      <td>1543364349796</td>\n",
       "      <td>\"Mozilla/5.0 (Macintosh; Intel Mac OS X 10_9_4...</td>\n",
       "      <td>80</td>\n",
       "    </tr>\n",
       "    <tr>\n",
       "      <th>4</th>\n",
       "      <td>DJ Dizzy</td>\n",
       "      <td>Logged In</td>\n",
       "      <td>Tegan</td>\n",
       "      <td>F</td>\n",
       "      <td>69</td>\n",
       "      <td>Levine</td>\n",
       "      <td>221.15220</td>\n",
       "      <td>paid</td>\n",
       "      <td>Portland-South Portland, ME</td>\n",
       "      <td>PUT</td>\n",
       "      <td>NextSong</td>\n",
       "      <td>1.540794e+12</td>\n",
       "      <td>992</td>\n",
       "      <td>Sexy Bitch</td>\n",
       "      <td>200</td>\n",
       "      <td>1543364729796</td>\n",
       "      <td>\"Mozilla/5.0 (Macintosh; Intel Mac OS X 10_9_4...</td>\n",
       "      <td>80</td>\n",
       "    </tr>\n",
       "  </tbody>\n",
       "</table>\n",
       "</div>"
      ],
      "text/plain": [
       "                             artist       auth firstName gender  \\\n",
       "0  Mitch Ryder & The Detroit Wheels  Logged In     Tegan      F   \n",
       "1                  The Spill Canvas  Logged In     Tegan      F   \n",
       "2                            Mogwai  Logged In     Tegan      F   \n",
       "3                              Spor  Logged In     Tegan      F   \n",
       "4                          DJ Dizzy  Logged In     Tegan      F   \n",
       "\n",
       "   itemInSession lastName     length level                     location  \\\n",
       "0             65   Levine  205.03465  paid  Portland-South Portland, ME   \n",
       "1             66   Levine  358.03383  paid  Portland-South Portland, ME   \n",
       "2             67   Levine  571.19302  paid  Portland-South Portland, ME   \n",
       "3             68   Levine  380.34240  paid  Portland-South Portland, ME   \n",
       "4             69   Levine  221.15220  paid  Portland-South Portland, ME   \n",
       "\n",
       "  method      page  registration  sessionId                            song  \\\n",
       "0    PUT  NextSong  1.540794e+12        992  Jenny Take A Ride (LP Version)   \n",
       "1    PUT  NextSong  1.540794e+12        992           The TIde (LP Version)   \n",
       "2    PUT  NextSong  1.540794e+12        992       Two Rights Make One Wrong   \n",
       "3    PUT  NextSong  1.540794e+12        992              Way Of The Samurai   \n",
       "4    PUT  NextSong  1.540794e+12        992                      Sexy Bitch   \n",
       "\n",
       "   status             ts                                          userAgent  \\\n",
       "0     200  1543363215796  \"Mozilla/5.0 (Macintosh; Intel Mac OS X 10_9_4...   \n",
       "1     200  1543363420796  \"Mozilla/5.0 (Macintosh; Intel Mac OS X 10_9_4...   \n",
       "2     200  1543363778796  \"Mozilla/5.0 (Macintosh; Intel Mac OS X 10_9_4...   \n",
       "3     200  1543364349796  \"Mozilla/5.0 (Macintosh; Intel Mac OS X 10_9_4...   \n",
       "4     200  1543364729796  \"Mozilla/5.0 (Macintosh; Intel Mac OS X 10_9_4...   \n",
       "\n",
       "  userId  \n",
       "0     80  \n",
       "1     80  \n",
       "2     80  \n",
       "3     80  \n",
       "4     80  "
      ]
     },
     "execution_count": 13,
     "metadata": {},
     "output_type": "execute_result"
    }
   ],
   "source": [
    "# TODO: Get the first file from data/log_data directory and parse it into\n",
    "#       a df object.\n",
    "log_files = get_files('data/log_data')\n",
    "filepath = log_files[0]\n",
    "df = pd.read_json(filepath, lines=True)\n",
    "df.head()"
   ]
  },
  {
   "cell_type": "markdown",
   "metadata": {},
   "source": [
    "## #3: `time` Table\n",
    "#### Extract Data for Time Table\n",
    "- Filter records by `NextSong` action\n",
    "- Convert the `ts` timestamp column to datetime\n",
    "  - Hint: the current timestamp is in milliseconds\n",
    "- Extract the timestamp, hour, day, week of year, month, year, and weekday from the `ts` column and set `time_data` to a list containing these values in order\n",
    "  - Hint: use pandas' [`dt` attribute](https://pandas.pydata.org/pandas-docs/stable/reference/api/pandas.Series.dt.html) to access easily datetimelike properties.\n",
    "- Specify labels for these columns and set to `column_labels`\n",
    "- Create a dataframe, `time_df,` containing the time data for this file by combining `column_labels` and `time_data` into a dictionary and converting this into a dataframe"
   ]
  },
  {
   "cell_type": "code",
   "execution_count": 14,
   "metadata": {},
   "outputs": [
    {
     "data": {
      "text/html": [
       "<div>\n",
       "<style scoped>\n",
       "    .dataframe tbody tr th:only-of-type {\n",
       "        vertical-align: middle;\n",
       "    }\n",
       "\n",
       "    .dataframe tbody tr th {\n",
       "        vertical-align: top;\n",
       "    }\n",
       "\n",
       "    .dataframe thead th {\n",
       "        text-align: right;\n",
       "    }\n",
       "</style>\n",
       "<table border=\"1\" class=\"dataframe\">\n",
       "  <thead>\n",
       "    <tr style=\"text-align: right;\">\n",
       "      <th></th>\n",
       "      <th>artist</th>\n",
       "      <th>auth</th>\n",
       "      <th>firstName</th>\n",
       "      <th>gender</th>\n",
       "      <th>itemInSession</th>\n",
       "      <th>lastName</th>\n",
       "      <th>length</th>\n",
       "      <th>level</th>\n",
       "      <th>location</th>\n",
       "      <th>method</th>\n",
       "      <th>page</th>\n",
       "      <th>registration</th>\n",
       "      <th>sessionId</th>\n",
       "      <th>song</th>\n",
       "      <th>status</th>\n",
       "      <th>ts</th>\n",
       "      <th>userAgent</th>\n",
       "      <th>userId</th>\n",
       "    </tr>\n",
       "  </thead>\n",
       "  <tbody>\n",
       "    <tr>\n",
       "      <th>0</th>\n",
       "      <td>Mitch Ryder &amp; The Detroit Wheels</td>\n",
       "      <td>Logged In</td>\n",
       "      <td>Tegan</td>\n",
       "      <td>F</td>\n",
       "      <td>65</td>\n",
       "      <td>Levine</td>\n",
       "      <td>205.03465</td>\n",
       "      <td>paid</td>\n",
       "      <td>Portland-South Portland, ME</td>\n",
       "      <td>PUT</td>\n",
       "      <td>NextSong</td>\n",
       "      <td>1.540794e+12</td>\n",
       "      <td>992</td>\n",
       "      <td>Jenny Take A Ride (LP Version)</td>\n",
       "      <td>200</td>\n",
       "      <td>1543363215796</td>\n",
       "      <td>\"Mozilla/5.0 (Macintosh; Intel Mac OS X 10_9_4...</td>\n",
       "      <td>80</td>\n",
       "    </tr>\n",
       "    <tr>\n",
       "      <th>1</th>\n",
       "      <td>The Spill Canvas</td>\n",
       "      <td>Logged In</td>\n",
       "      <td>Tegan</td>\n",
       "      <td>F</td>\n",
       "      <td>66</td>\n",
       "      <td>Levine</td>\n",
       "      <td>358.03383</td>\n",
       "      <td>paid</td>\n",
       "      <td>Portland-South Portland, ME</td>\n",
       "      <td>PUT</td>\n",
       "      <td>NextSong</td>\n",
       "      <td>1.540794e+12</td>\n",
       "      <td>992</td>\n",
       "      <td>The TIde (LP Version)</td>\n",
       "      <td>200</td>\n",
       "      <td>1543363420796</td>\n",
       "      <td>\"Mozilla/5.0 (Macintosh; Intel Mac OS X 10_9_4...</td>\n",
       "      <td>80</td>\n",
       "    </tr>\n",
       "    <tr>\n",
       "      <th>2</th>\n",
       "      <td>Mogwai</td>\n",
       "      <td>Logged In</td>\n",
       "      <td>Tegan</td>\n",
       "      <td>F</td>\n",
       "      <td>67</td>\n",
       "      <td>Levine</td>\n",
       "      <td>571.19302</td>\n",
       "      <td>paid</td>\n",
       "      <td>Portland-South Portland, ME</td>\n",
       "      <td>PUT</td>\n",
       "      <td>NextSong</td>\n",
       "      <td>1.540794e+12</td>\n",
       "      <td>992</td>\n",
       "      <td>Two Rights Make One Wrong</td>\n",
       "      <td>200</td>\n",
       "      <td>1543363778796</td>\n",
       "      <td>\"Mozilla/5.0 (Macintosh; Intel Mac OS X 10_9_4...</td>\n",
       "      <td>80</td>\n",
       "    </tr>\n",
       "    <tr>\n",
       "      <th>3</th>\n",
       "      <td>Spor</td>\n",
       "      <td>Logged In</td>\n",
       "      <td>Tegan</td>\n",
       "      <td>F</td>\n",
       "      <td>68</td>\n",
       "      <td>Levine</td>\n",
       "      <td>380.34240</td>\n",
       "      <td>paid</td>\n",
       "      <td>Portland-South Portland, ME</td>\n",
       "      <td>PUT</td>\n",
       "      <td>NextSong</td>\n",
       "      <td>1.540794e+12</td>\n",
       "      <td>992</td>\n",
       "      <td>Way Of The Samurai</td>\n",
       "      <td>200</td>\n",
       "      <td>1543364349796</td>\n",
       "      <td>\"Mozilla/5.0 (Macintosh; Intel Mac OS X 10_9_4...</td>\n",
       "      <td>80</td>\n",
       "    </tr>\n",
       "    <tr>\n",
       "      <th>4</th>\n",
       "      <td>DJ Dizzy</td>\n",
       "      <td>Logged In</td>\n",
       "      <td>Tegan</td>\n",
       "      <td>F</td>\n",
       "      <td>69</td>\n",
       "      <td>Levine</td>\n",
       "      <td>221.15220</td>\n",
       "      <td>paid</td>\n",
       "      <td>Portland-South Portland, ME</td>\n",
       "      <td>PUT</td>\n",
       "      <td>NextSong</td>\n",
       "      <td>1.540794e+12</td>\n",
       "      <td>992</td>\n",
       "      <td>Sexy Bitch</td>\n",
       "      <td>200</td>\n",
       "      <td>1543364729796</td>\n",
       "      <td>\"Mozilla/5.0 (Macintosh; Intel Mac OS X 10_9_4...</td>\n",
       "      <td>80</td>\n",
       "    </tr>\n",
       "  </tbody>\n",
       "</table>\n",
       "</div>"
      ],
      "text/plain": [
       "                             artist       auth firstName gender  \\\n",
       "0  Mitch Ryder & The Detroit Wheels  Logged In     Tegan      F   \n",
       "1                  The Spill Canvas  Logged In     Tegan      F   \n",
       "2                            Mogwai  Logged In     Tegan      F   \n",
       "3                              Spor  Logged In     Tegan      F   \n",
       "4                          DJ Dizzy  Logged In     Tegan      F   \n",
       "\n",
       "   itemInSession lastName     length level                     location  \\\n",
       "0             65   Levine  205.03465  paid  Portland-South Portland, ME   \n",
       "1             66   Levine  358.03383  paid  Portland-South Portland, ME   \n",
       "2             67   Levine  571.19302  paid  Portland-South Portland, ME   \n",
       "3             68   Levine  380.34240  paid  Portland-South Portland, ME   \n",
       "4             69   Levine  221.15220  paid  Portland-South Portland, ME   \n",
       "\n",
       "  method      page  registration  sessionId                            song  \\\n",
       "0    PUT  NextSong  1.540794e+12        992  Jenny Take A Ride (LP Version)   \n",
       "1    PUT  NextSong  1.540794e+12        992           The TIde (LP Version)   \n",
       "2    PUT  NextSong  1.540794e+12        992       Two Rights Make One Wrong   \n",
       "3    PUT  NextSong  1.540794e+12        992              Way Of The Samurai   \n",
       "4    PUT  NextSong  1.540794e+12        992                      Sexy Bitch   \n",
       "\n",
       "   status             ts                                          userAgent  \\\n",
       "0     200  1543363215796  \"Mozilla/5.0 (Macintosh; Intel Mac OS X 10_9_4...   \n",
       "1     200  1543363420796  \"Mozilla/5.0 (Macintosh; Intel Mac OS X 10_9_4...   \n",
       "2     200  1543363778796  \"Mozilla/5.0 (Macintosh; Intel Mac OS X 10_9_4...   \n",
       "3     200  1543364349796  \"Mozilla/5.0 (Macintosh; Intel Mac OS X 10_9_4...   \n",
       "4     200  1543364729796  \"Mozilla/5.0 (Macintosh; Intel Mac OS X 10_9_4...   \n",
       "\n",
       "  userId  \n",
       "0     80  \n",
       "1     80  \n",
       "2     80  \n",
       "3     80  \n",
       "4     80  "
      ]
     },
     "execution_count": 14,
     "metadata": {},
     "output_type": "execute_result"
    }
   ],
   "source": [
    "# TODO: Filter records by NextSong action\n",
    "df = df[df['page'] == 'NextSong']\n",
    "df.head()"
   ]
  },
  {
   "cell_type": "code",
   "execution_count": 15,
   "metadata": {},
   "outputs": [
    {
     "data": {
      "text/plain": [
       "0   2018-11-28 00:00:15.796\n",
       "1   2018-11-28 00:03:40.796\n",
       "2   2018-11-28 00:09:38.796\n",
       "3   2018-11-28 00:19:09.796\n",
       "4   2018-11-28 00:25:29.796\n",
       "Name: ts, dtype: datetime64[ns]"
      ]
     },
     "execution_count": 15,
     "metadata": {},
     "output_type": "execute_result"
    }
   ],
   "source": [
    "# TODO: Convert the ts timestamp column to datetime\n",
    "t = pd.to_datetime(df['ts'], unit='ms')\n",
    "t.head()"
   ]
  },
  {
   "cell_type": "code",
   "execution_count": 16,
   "metadata": {},
   "outputs": [],
   "source": [
    "# TODO: Extract the timestamp, hour, day, week of year, month, year, and  \n",
    "#       weekday from the ts column and set time_data to a list containing \n",
    "#       these values in order\n",
    "time_data = (df['ts'], t.dt.hour, t.dt.day, t.dt.week, t.dt.month, t.dt.year, t.dt.weekday)\n",
    "column_labels = ('start_time', 'hour', 'day', 'week', 'month', 'year', 'weekday')"
   ]
  },
  {
   "cell_type": "code",
   "execution_count": 17,
   "metadata": {},
   "outputs": [
    {
     "data": {
      "text/html": [
       "<div>\n",
       "<style scoped>\n",
       "    .dataframe tbody tr th:only-of-type {\n",
       "        vertical-align: middle;\n",
       "    }\n",
       "\n",
       "    .dataframe tbody tr th {\n",
       "        vertical-align: top;\n",
       "    }\n",
       "\n",
       "    .dataframe thead th {\n",
       "        text-align: right;\n",
       "    }\n",
       "</style>\n",
       "<table border=\"1\" class=\"dataframe\">\n",
       "  <thead>\n",
       "    <tr style=\"text-align: right;\">\n",
       "      <th></th>\n",
       "      <th>start_time</th>\n",
       "      <th>hour</th>\n",
       "      <th>day</th>\n",
       "      <th>week</th>\n",
       "      <th>month</th>\n",
       "      <th>year</th>\n",
       "      <th>weekday</th>\n",
       "    </tr>\n",
       "  </thead>\n",
       "  <tbody>\n",
       "    <tr>\n",
       "      <th>0</th>\n",
       "      <td>1543363215796</td>\n",
       "      <td>0</td>\n",
       "      <td>28</td>\n",
       "      <td>48</td>\n",
       "      <td>11</td>\n",
       "      <td>2018</td>\n",
       "      <td>2</td>\n",
       "    </tr>\n",
       "    <tr>\n",
       "      <th>1</th>\n",
       "      <td>1543363420796</td>\n",
       "      <td>0</td>\n",
       "      <td>28</td>\n",
       "      <td>48</td>\n",
       "      <td>11</td>\n",
       "      <td>2018</td>\n",
       "      <td>2</td>\n",
       "    </tr>\n",
       "    <tr>\n",
       "      <th>2</th>\n",
       "      <td>1543363778796</td>\n",
       "      <td>0</td>\n",
       "      <td>28</td>\n",
       "      <td>48</td>\n",
       "      <td>11</td>\n",
       "      <td>2018</td>\n",
       "      <td>2</td>\n",
       "    </tr>\n",
       "    <tr>\n",
       "      <th>3</th>\n",
       "      <td>1543364349796</td>\n",
       "      <td>0</td>\n",
       "      <td>28</td>\n",
       "      <td>48</td>\n",
       "      <td>11</td>\n",
       "      <td>2018</td>\n",
       "      <td>2</td>\n",
       "    </tr>\n",
       "    <tr>\n",
       "      <th>4</th>\n",
       "      <td>1543364729796</td>\n",
       "      <td>0</td>\n",
       "      <td>28</td>\n",
       "      <td>48</td>\n",
       "      <td>11</td>\n",
       "      <td>2018</td>\n",
       "      <td>2</td>\n",
       "    </tr>\n",
       "  </tbody>\n",
       "</table>\n",
       "</div>"
      ],
      "text/plain": [
       "      start_time  hour  day  week  month  year  weekday\n",
       "0  1543363215796     0   28    48     11  2018        2\n",
       "1  1543363420796     0   28    48     11  2018        2\n",
       "2  1543363778796     0   28    48     11  2018        2\n",
       "3  1543364349796     0   28    48     11  2018        2\n",
       "4  1543364729796     0   28    48     11  2018        2"
      ]
     },
     "execution_count": 17,
     "metadata": {},
     "output_type": "execute_result"
    }
   ],
   "source": [
    "# TODO: Create a dataframe containing the time data for this file by \n",
    "#       combining column_labels and time_data into a dictionary and \n",
    "#       converting this into a dataframe\n",
    "time_df = pd.DataFrame(data=dict(zip(column_labels, time_data)))\n",
    "time_df.head()"
   ]
  },
  {
   "cell_type": "markdown",
   "metadata": {},
   "source": [
    "#### Insert Records into Time Table\n",
    "Write the `time_table_insert` query and run the cell below to insert the time records into the `time` table.\n",
    "\n",
    "Make sure your query handles potential duplicate `start_time` values gracefully—if a duplicate is encountered, the query should **do nothing** instead of raising an error."
   ]
  },
  {
   "cell_type": "code",
   "execution_count": 18,
   "metadata": {},
   "outputs": [],
   "source": [
    "# TODO: Write an INSERT query for the time table that accepts\n",
    "#       record values as its parameters.\n",
    "time_table_insert = (\"\"\"\n",
    "    INSERT INTO time(start_time, hour, day, week, month, year, weekday)\n",
    "    VALUES(%s, %s, %s, %s, %s, %s, %s)\n",
    "    ON CONFLICT (start_time) DO NOTHING;\n",
    "\"\"\")"
   ]
  },
  {
   "cell_type": "code",
   "execution_count": 19,
   "metadata": {},
   "outputs": [],
   "source": [
    "for i, row in time_df.iterrows():\n",
    "    cur.execute(time_table_insert, list(row))\n",
    "    conn.commit()"
   ]
  },
  {
   "cell_type": "markdown",
   "metadata": {},
   "source": [
    "### Test"
   ]
  },
  {
   "cell_type": "code",
   "execution_count": 20,
   "metadata": {},
   "outputs": [
    {
     "data": {
      "text/plain": [
       "[(1543363215796, 0, 28, 48, 11, 2018, 2),\n",
       " (1543363420796, 0, 28, 48, 11, 2018, 2),\n",
       " (1543363778796, 0, 28, 48, 11, 2018, 2),\n",
       " (1543364349796, 0, 28, 48, 11, 2018, 2),\n",
       " (1543364729796, 0, 28, 48, 11, 2018, 2)]"
      ]
     },
     "execution_count": 20,
     "metadata": {},
     "output_type": "execute_result"
    }
   ],
   "source": [
    "cur.execute(\"SELECT * FROM time LIMIT 5\")\n",
    "results = cur.fetchall()\n",
    "results"
   ]
  },
  {
   "cell_type": "markdown",
   "metadata": {},
   "source": [
    "## #4: `users` Table\n",
    "#### Extract Data for Users Table\n",
    "- Select columns for user ID, first name, last name, gender and level and set to `user_df`"
   ]
  },
  {
   "cell_type": "code",
   "execution_count": 21,
   "metadata": {},
   "outputs": [],
   "source": [
    "# TODO: Create the user_df dataframe\n",
    "user_df = df[['userId', 'firstName', 'lastName', 'gender', 'level']]"
   ]
  },
  {
   "cell_type": "markdown",
   "metadata": {},
   "source": [
    "#### Insert Records into Users Table\n",
    "\n",
    "Write the `user_table_insert` query and run the cell below to insert user records into the `users` table.\n",
    "\n",
    "**Important: This part is a bit different from previous queries**\n",
    "\n",
    "Make sure your query handles potential duplicate `user_id` values gracefully—if a duplicate is encountered, the query should **UPDATE the `level` field to the new record's `level` field.** \n",
    "\n",
    "Learn more about the ON CONFLICT clause [here](https://www.postgresql.org/docs/current/sql-insert.html) and see some examples on how to do this."
   ]
  },
  {
   "cell_type": "code",
   "execution_count": 22,
   "metadata": {},
   "outputs": [],
   "source": [
    "# TODO: Write an INSERT query for the users table that accepts\n",
    "#       record values as its parameters and updates level on conflict.\n",
    "user_table_insert = (\"\"\"\n",
    "    INSERT INTO users(user_id, first_name, last_name, gender, level)\n",
    "    VALUES(%s, %s, %s, %s, %s)\n",
    "    ON CONFLICT (user_id) DO UPDATE set level = EXCLUDED.level;\n",
    "\"\"\")"
   ]
  },
  {
   "cell_type": "code",
   "execution_count": 23,
   "metadata": {},
   "outputs": [],
   "source": [
    "for i, row in user_df.iterrows():\n",
    "    cur.execute(user_table_insert, row)\n",
    "    conn.commit()"
   ]
  },
  {
   "cell_type": "markdown",
   "metadata": {},
   "source": [
    "### Test"
   ]
  },
  {
   "cell_type": "code",
   "execution_count": 24,
   "metadata": {},
   "outputs": [
    {
     "data": {
      "text/plain": [
       "[(92, 'Ryann', 'Smith', 'F', 'free'),\n",
       " (74, 'Braden', 'Parker', 'M', 'free'),\n",
       " (55, 'Martin', 'Johnson', 'M', 'free'),\n",
       " (40, 'Tucker', 'Garrison', 'M', 'free'),\n",
       " (9, 'Wyatt', 'Scott', 'M', 'free')]"
      ]
     },
     "execution_count": 24,
     "metadata": {},
     "output_type": "execute_result"
    }
   ],
   "source": [
    "cur.execute(\"SELECT * FROM users LIMIT 5\")\n",
    "results = cur.fetchall()\n",
    "results"
   ]
  },
  {
   "cell_type": "markdown",
   "metadata": {},
   "source": [
    "## #5: `songplays` Table\n",
    "#### Extract Data and Songplays Table\n",
    "This one is a little more complicated since information from the songs table, artists table, and original log file are all needed for the `songplays` table. Since the log file does not specify an ID for either the song or the artist, you'll need to get the song ID and artist ID by querying the songs and artists tables to find matches based on song title, artist name, and song duration time.\n",
    "- Implement the `song_select` query in `sql_queries.py` to find the song ID and artist ID based on the title, artist name, and duration of a song.\n",
    "- Select the timestamp, user ID, level, song ID, artist ID, session ID, location, and user agent and set to `songplay_data`\n",
    "\n",
    "#### Insert Records into Songplays Table\n",
    "- Create the `songplay_table_insert` query and complete & run the cell below it to insert records for the songplay actions in this log file into the `songplays` table."
   ]
  },
  {
   "cell_type": "code",
   "execution_count": 25,
   "metadata": {},
   "outputs": [],
   "source": [
    "# TODO: Write an INSERT query for the songplays table that accepts\n",
    "#       record values as its parameters.\n",
    "songplay_table_insert = (\"\"\"\n",
    "    INSERT INTO songplays(\n",
    "        start_time,\n",
    "        user_id,\n",
    "        level,\n",
    "        song_id,\n",
    "        artist_id,\n",
    "        session_id,\n",
    "        location,\n",
    "        user_agent)\n",
    "    VALUES(%s, %s, %s, %s, %s, %s, %s, %s);\n",
    "\"\"\")\n",
    "\n",
    "# TODO: Write a SELECT query that finds the song ID and artist ID \n",
    "#       based on the title, artist name, and duration of a song.\n",
    "song_select = (\"\"\"\n",
    "    SELECT s.song_id, s.artist_id\n",
    "    FROM songs s \n",
    "        INNER JOIN artists a ON s.artist_id = a.artist_id\n",
    "    WHERE s.title = %s AND a.name = %s AND s.duration = %s;\n",
    "\"\"\")"
   ]
  },
  {
   "cell_type": "code",
   "execution_count": 26,
   "metadata": {},
   "outputs": [],
   "source": [
    "for index, row in df.iterrows():\n",
    "\n",
    "    # get songid and artistid from song and artist tables\n",
    "    cur.execute(song_select, (row.song, row.artist, row.length))\n",
    "    results = cur.fetchone()\n",
    "    \n",
    "    if results:\n",
    "        songid, artistid = results\n",
    "    else:\n",
    "        songid, artistid = None, None\n",
    "\n",
    "    # TODO: Prepare the values for each songplay record\n",
    "    songplay_data = (row['ts'],\n",
    "                     row['userId'],\n",
    "                     row['level'],\n",
    "                     songid, artistid,\n",
    "                     row['sessionId'],\n",
    "                     row['location'],\n",
    "                     row['userAgent'])\n",
    "    cur.execute(songplay_table_insert, songplay_data)\n",
    "    conn.commit()"
   ]
  },
  {
   "cell_type": "markdown",
   "metadata": {},
   "source": [
    "### Test\n"
   ]
  },
  {
   "cell_type": "code",
   "execution_count": 27,
   "metadata": {},
   "outputs": [
    {
     "data": {
      "text/plain": [
       "[(7184,\n",
       "  1543363215796,\n",
       "  80,\n",
       "  'paid',\n",
       "  None,\n",
       "  None,\n",
       "  992,\n",
       "  'Portland-South Portland, ME',\n",
       "  '\"Mozilla/5.0 (Macintosh; Intel Mac OS X 10_9_4) AppleWebKit/537.36 (KHTML, like Gecko) Chrome/36.0.1985.143 Safari/537.36\"'),\n",
       " (7185,\n",
       "  1543363420796,\n",
       "  80,\n",
       "  'paid',\n",
       "  None,\n",
       "  None,\n",
       "  992,\n",
       "  'Portland-South Portland, ME',\n",
       "  '\"Mozilla/5.0 (Macintosh; Intel Mac OS X 10_9_4) AppleWebKit/537.36 (KHTML, like Gecko) Chrome/36.0.1985.143 Safari/537.36\"'),\n",
       " (7186,\n",
       "  1543363778796,\n",
       "  80,\n",
       "  'paid',\n",
       "  None,\n",
       "  None,\n",
       "  992,\n",
       "  'Portland-South Portland, ME',\n",
       "  '\"Mozilla/5.0 (Macintosh; Intel Mac OS X 10_9_4) AppleWebKit/537.36 (KHTML, like Gecko) Chrome/36.0.1985.143 Safari/537.36\"'),\n",
       " (7187,\n",
       "  1543364349796,\n",
       "  80,\n",
       "  'paid',\n",
       "  None,\n",
       "  None,\n",
       "  992,\n",
       "  'Portland-South Portland, ME',\n",
       "  '\"Mozilla/5.0 (Macintosh; Intel Mac OS X 10_9_4) AppleWebKit/537.36 (KHTML, like Gecko) Chrome/36.0.1985.143 Safari/537.36\"'),\n",
       " (7188,\n",
       "  1543364729796,\n",
       "  80,\n",
       "  'paid',\n",
       "  None,\n",
       "  None,\n",
       "  992,\n",
       "  'Portland-South Portland, ME',\n",
       "  '\"Mozilla/5.0 (Macintosh; Intel Mac OS X 10_9_4) AppleWebKit/537.36 (KHTML, like Gecko) Chrome/36.0.1985.143 Safari/537.36\"')]"
      ]
     },
     "execution_count": 27,
     "metadata": {},
     "output_type": "execute_result"
    }
   ],
   "source": [
    "cur.execute(\"SELECT * FROM songplays LIMIT 5\")\n",
    "results = cur.fetchall()\n",
    "results"
   ]
  },
  {
   "cell_type": "markdown",
   "metadata": {},
   "source": [
    "### Close Connection to Sparkify Database"
   ]
  },
  {
   "cell_type": "code",
   "execution_count": 28,
   "metadata": {},
   "outputs": [],
   "source": [
    "conn.close()"
   ]
  },
  {
   "cell_type": "markdown",
   "metadata": {},
   "source": [
    "## Part 2. Completed Process\n",
    "\n",
    "Now that you've written all the `*_table_insert` queries and built the code to prepare and insert individual records into your database, it's time to **formalize the ETL process**.\n",
    "\n",
    "In this step, you will:\n",
    "- Create reusable **functions** to process all files from the **song** and **log** datasets.\n",
    "- Use these functions to **load the full datasets** into your database.\n",
    "\n",
    "**Hint:** Read the code you've written in **step 1** and copy the relevant parts from each section.\n",
    "\n",
    "By the end of this section, your database should be fully populated with all available records from both datasets.\n",
    "\n",
    "> 💡 **Note:**  \n",
    "> Be sure to include **docstrings** for each function you write. Clear documentation helps others (and your future self) understand how each function works and how to use it effectively."
   ]
  },
  {
   "cell_type": "code",
   "execution_count": 29,
   "metadata": {},
   "outputs": [],
   "source": [
    "# TODO: Complete both of these functions below based on what you've \n",
    "#       learned so far.\n",
    "\n",
    "def process_song_file(cur, filepath):\n",
    "    \"\"\" TODO: Write a docstring documentation here.\n",
    "    \"\"\"\n",
    "    # open song file\n",
    "    df = pd.read_json(filepath, lines=True)\n",
    "\n",
    "    # insert song record\n",
    "    song_data = df[['song_id', 'title', 'artist_id', 'year', 'duration']].values[0].tolist()\n",
    "    cur.execute(song_table_insert, song_data)\n",
    "    \n",
    "    # insert artist record\n",
    "    artist_data = df[['artist_id', 'artist_name', 'artist_location', 'artist_latitude', 'artist_longitude']].values[0].tolist()\n",
    "    cur.execute(artist_table_insert, artist_data)\n",
    "\n",
    "\n",
    "def process_log_file(cur, filepath):\n",
    "    \"\"\" TODO: Write a docstring documentation here.\n",
    "    \"\"\"\n",
    "    # open log file\n",
    "    df = pd.read_json(filepath, lines=True)\n",
    "\n",
    "    # filter by NextSong action\n",
    "    df = df[df['page'] == 'NextSong']\n",
    "\n",
    "    # convert timestamp column to datetime\n",
    "    t = pd.to_datetime(df['ts'], unit='ms')\n",
    "    \n",
    "    # insert time data records\n",
    "    time_data = (df['ts'], t.dt.hour, t.dt.day, t.dt.week, t.dt.month, t.dt.year, t.dt.weekday)\n",
    "    column_labels = ('start_time', 'hour', 'day', 'week', 'month', 'year', 'weekday')\n",
    "    time_df = pd.DataFrame(data=dict(zip(column_labels, time_data)))\n",
    "\n",
    "    for i, row in time_df.iterrows():\n",
    "        cur.execute(time_table_insert, list(row))\n",
    "\n",
    "    # load user table\n",
    "    user_df = df[['userId', 'firstName', 'lastName', 'gender', 'level']]\n",
    "\n",
    "    # insert user records\n",
    "    for i, row in user_df.iterrows():\n",
    "        cur.execute(user_table_insert, row)\n",
    "\n",
    "    # insert songplay records\n",
    "    for index, row in df.iterrows():\n",
    "        \n",
    "        # get songid and artistid from song and artist tables\n",
    "        cur.execute(song_select, (row.song, row.artist, row.length))\n",
    "        results = cur.fetchone()\n",
    "        \n",
    "        if results:\n",
    "            songid, artistid = results\n",
    "        else:\n",
    "            songid, artistid = None, None\n",
    "\n",
    "        # insert songplay record\n",
    "        songplay_data = (row['ts'],\n",
    "                         row['userId'],\n",
    "                         row['level'],\n",
    "                         songid, artistid,\n",
    "                         row['sessionId'],\n",
    "                         row['location'],\n",
    "                         row['userAgent'])\n",
    "        cur.execute(songplay_table_insert, songplay_data)"
   ]
  },
  {
   "cell_type": "code",
   "execution_count": 30,
   "metadata": {},
   "outputs": [
    {
     "name": "stderr",
     "output_type": "stream",
     "text": [
      "Processing data/song_data:  21%|██        | 15/71 [00:00<00:00, 144.96file/s]"
     ]
    },
    {
     "name": "stdout",
     "output_type": "stream",
     "text": [
      "✅ All tables truncated successfully.\n",
      "71 files found in data/song_data\n"
     ]
    },
    {
     "name": "stderr",
     "output_type": "stream",
     "text": [
      "Processing data/song_data: 100%|██████████| 71/71 [00:00<00:00, 139.23file/s]\n",
      "Processing data/log_data:   0%|          | 0/30 [00:00<?, ?file/s]"
     ]
    },
    {
     "name": "stdout",
     "output_type": "stream",
     "text": [
      "30 files found in data/log_data\n"
     ]
    },
    {
     "name": "stderr",
     "output_type": "stream",
     "text": [
      "Processing data/log_data: 100%|██████████| 30/30 [00:06<00:00,  4.06file/s]\n"
     ]
    }
   ],
   "source": [
    "from tqdm import tqdm\n",
    "\n",
    "def process_data(cur, conn, filepath, func):\n",
    "    \"\"\"\n",
    "    Processes all JSON files in the given directory using the specified function.\n",
    "\n",
    "    This function walks through all subdirectories of the given filepath, finds all JSON files,\n",
    "    and applies the provided processing function to each file. It commits changes to the database\n",
    "    after processing each file.\n",
    "\n",
    "    Parameters:\n",
    "    cur (psycopg2.cursor): Cursor for the database connection.\n",
    "    conn (psycopg2.connection): Active connection to the database.\n",
    "    filepath (str): Path to the root directory containing JSON files.\n",
    "    func (function): Function to apply to each file, typically for data extraction and insertion.\n",
    "    \"\"\"\n",
    "    # get all files matching extension from directory\n",
    "    all_files = []\n",
    "    for root, dirs, files in os.walk(filepath):\n",
    "        files = glob.glob(os.path.join(root,'*.json'))\n",
    "        for f in files :\n",
    "            all_files.append(os.path.abspath(f))\n",
    "\n",
    "    # get total number of files found\n",
    "    num_files = len(all_files)\n",
    "    print('{} files found in {}'.format(num_files, filepath))\n",
    "\n",
    "    # iterate over files and process\n",
    "    for datafile in tqdm(all_files, desc=f'Processing {filepath}', unit='file'):\n",
    "        func(cur, datafile)\n",
    "        conn.commit()\n",
    "\n",
    "def truncate_tables(cur, conn):\n",
    "    \"\"\"\n",
    "    Removes all data from key tables in the database to reset the ETL process.\n",
    "\n",
    "    This function truncates the following tables: songplays, songs, artists, users, and time.\n",
    "    It uses the CASCADE option to ensure that dependent data (e.g., foreign key constraints)\n",
    "    is also removed safely.\n",
    "\n",
    "    Parameters:\n",
    "    cur (psycopg2.cursor): Cursor for the database connection.\n",
    "    conn (psycopg2.connection): Active connection to the database.\n",
    "    \"\"\"\n",
    "    tables = ['songplays', 'songs', 'artists', 'users', 'time']\n",
    "    \n",
    "    for table in tables:\n",
    "        cur.execute(f'TRUNCATE TABLE {table} CASCADE;')\n",
    "        conn.commit()\n",
    "    \n",
    "    print(\"✅ All tables truncated successfully.\")\n",
    "    \n",
    "\n",
    "def main():\n",
    "    \"\"\"\n",
    "    Entry point of the ETL pipeline.\n",
    "\n",
    "    This function establishes a database connection and executes the full ETL process:\n",
    "    - It processes all song data files using `process_song_file`.\n",
    "    - It processes all log data files using `process_log_file`.\n",
    "    - It closes the database connection when finished.\n",
    "    \"\"\"\n",
    "    conn = psycopg2.connect(\"host=127.0.0.1 dbname=sparkifydb user=student password=student\")\n",
    "    cur = conn.cursor()\n",
    "\n",
    "    truncate_tables(cur, conn)\n",
    "    process_data(cur, conn, filepath='data/song_data', func=process_song_file)\n",
    "    process_data(cur, conn, filepath='data/log_data', func=process_log_file)\n",
    "\n",
    "    conn.close()\n",
    "    \n",
    "main()"
   ]
  },
  {
   "cell_type": "markdown",
   "metadata": {},
   "source": [
    "# Final Test\n",
    "\n",
    "Find a single songplay row that has non-empty `song_id` and `artist_id`.\n",
    "\n",
    "When correct, there should be **exactly one row** that meets this requirement."
   ]
  },
  {
   "cell_type": "code",
   "execution_count": 31,
   "metadata": {},
   "outputs": [
    {
     "name": "stdout",
     "output_type": "stream",
     "text": [
      "Result of `select * from songplays WHERE song_id is not null and artist_id is not null`:\n",
      "[(20834, 1542837407796, 15, 'paid', 'SOZCTXZ12AB0182364', 'AR5KOSW1187FB35FF4', 818, 'Chicago-Naperville-Elgin, IL-IN-WI', '\"Mozilla/5.0 (X11; Linux x86_64) AppleWebKit/537.36 (KHTML, like Gecko) Ubuntu Chromium/36.0.1985.125 Chrome/36.0.1985.125 Safari/537.36\"')]\n"
     ]
    }
   ],
   "source": [
    "conn = psycopg2.connect(\"host=127.0.0.1 dbname=sparkifydb user=student password=student\")\n",
    "cur = conn.cursor()\n",
    "\n",
    "cur.execute(\"select * from songplays WHERE song_id is not null and artist_id is not null\")\n",
    "results = cur.fetchall()\n",
    "print(\"Result of `select * from songplays WHERE song_id is not null and artist_id is not null`:\")\n",
    "print(results)\n",
    "assert(len(results) == 1)\n",
    "\n",
    "conn.close()"
   ]
  }
 ],
 "metadata": {
  "kernelspec": {
   "display_name": "Python 3",
   "language": "python",
   "name": "python3"
  },
  "language_info": {
   "codemirror_mode": {
    "name": "ipython",
    "version": 3
   },
   "file_extension": ".py",
   "mimetype": "text/x-python",
   "name": "python",
   "nbconvert_exporter": "python",
   "pygments_lexer": "ipython3",
   "version": "3.6.3"
  }
 },
 "nbformat": 4,
 "nbformat_minor": 2
}
